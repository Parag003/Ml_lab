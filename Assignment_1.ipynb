{
  "nbformat": 4,
  "nbformat_minor": 0,
  "metadata": {
    "colab": {
      "provenance": [],
      "authorship_tag": "ABX9TyNnjbDuo3jZgGTmKk4KyI/a",
      "include_colab_link": true
    },
    "kernelspec": {
      "name": "python3",
      "display_name": "Python 3"
    },
    "language_info": {
      "name": "python"
    }
  },
  "cells": [
    {
      "cell_type": "markdown",
      "metadata": {
        "id": "view-in-github",
        "colab_type": "text"
      },
      "source": [
        "<a href=\"https://colab.research.google.com/github/Parag003/Ml_lab/blob/main/Assignment_1.ipynb\" target=\"_parent\"><img src=\"https://colab.research.google.com/assets/colab-badge.svg\" alt=\"Open In Colab\"/></a>"
      ]
    },
    {
      "cell_type": "code",
      "execution_count": null,
      "metadata": {
        "colab": {
          "base_uri": "https://localhost:8080/"
        },
        "id": "Wzgmqv4n3lji",
        "outputId": "1a50fbd0-cceb-41b9-f67b-cd1e34738d28"
      },
      "outputs": [
        {
          "output_type": "stream",
          "name": "stdout",
          "text": [
            "[6 5 4 3 2 1]\n"
          ]
        }
      ],
      "source": [
        "import numpy as np\n",
        "\n",
        "\n",
        "arr = np.array([1,2,3,4,5,6]);\n",
        "reversed_arr = arr[::-1]\n",
        "\n",
        "print(reversed_arr)\n"
      ]
    },
    {
      "cell_type": "code",
      "source": [
        "# flatten\n",
        "\n",
        "array1 = np.array([1,2,3,4,5,6])\n",
        "\n",
        "flattened_array = array1.flatten()\n",
        "\n",
        "print(flattened_array)"
      ],
      "metadata": {
        "colab": {
          "base_uri": "https://localhost:8080/"
        },
        "id": "VEahMVoa4yRw",
        "outputId": "62f9f248-6425-4175-8f7b-372edb47960d"
      },
      "execution_count": null,
      "outputs": [
        {
          "output_type": "stream",
          "name": "stdout",
          "text": [
            "[1 2 3 4 5 6]\n"
          ]
        }
      ]
    },
    {
      "cell_type": "code",
      "source": [
        "# compare\n",
        "\n",
        "arr1 = np.array([[1,2],[3,4]])\n",
        "arr2 = np.array([[1,2],[3,4]])\n",
        "\n",
        "comparison = np.array_equal(arr1,arr2)\n",
        "\n",
        "print(comparison)"
      ],
      "metadata": {
        "colab": {
          "base_uri": "https://localhost:8080/"
        },
        "id": "-RE7_88j4_dI",
        "outputId": "8c05b25b-de39-411d-b52a-1102eebeccf9"
      },
      "execution_count": null,
      "outputs": [
        {
          "output_type": "stream",
          "name": "stdout",
          "text": [
            "True\n"
          ]
        }
      ]
    },
    {
      "cell_type": "code",
      "source": [
        "x= np.array([1,2,3,4,5,1,2,1,1,1])\n",
        "\n",
        "most_freq = np.bincount(x).argmax()\n",
        "indices = np.where(x == most_freq)[0]\n",
        "print(most_freq,indices)"
      ],
      "metadata": {
        "colab": {
          "base_uri": "https://localhost:8080/"
        },
        "id": "hxPxOgJR5R4u",
        "outputId": "7ceeaba7-01fc-412b-e859-f9a4d6b19978"
      },
      "execution_count": null,
      "outputs": [
        {
          "output_type": "stream",
          "name": "stdout",
          "text": [
            "1 [0 5 7 8 9]\n"
          ]
        }
      ]
    },
    {
      "cell_type": "code",
      "source": [
        "gfg = np.matrix('[4,1,9;12,3,1;4,5,6]')\n",
        "\n",
        "# sum\n",
        "total_sum = gfg.sum()\n",
        "\n",
        "# sum row wise\n",
        "row_sum = gfg.sum(axis=1)\n",
        "\n",
        "# sum of all column wise\n",
        "colum_sum  = gfg.sum(axis=0)\n",
        "\n",
        "print(total_sum,row_sum,colum_sum)"
      ],
      "metadata": {
        "colab": {
          "base_uri": "https://localhost:8080/"
        },
        "id": "yIbbaG_D6Ohl",
        "outputId": "daac2ac8-2dee-4601-fe05-3b4729cc6d19"
      },
      "execution_count": null,
      "outputs": [
        {
          "output_type": "stream",
          "name": "stdout",
          "text": [
            "45 [[14]\n",
            " [16]\n",
            " [15]] [[20  9 16]]\n"
          ]
        }
      ]
    },
    {
      "cell_type": "code",
      "source": [
        "n_array = np.array([[55,25,15], [30, 44, 2], [11, 45, 77]])\n",
        "\n",
        "sum_diag = np.trace(n_array)\n",
        "\n",
        "eigenvalues , eigenvectors = np.linalg.eig(n_array)\n",
        "\n",
        "inverse_matrix = np.linalg.inv(n_array)\n",
        "\n",
        "\n",
        "determinant = np.linalg.det(n_array)\n",
        "\n",
        "print(sum_diag,eigenvalues,eigenvectors,inverse_matrix,determinant)"
      ],
      "metadata": {
        "colab": {
          "base_uri": "https://localhost:8080/"
        },
        "id": "50J0DHjo7SH5",
        "outputId": "bb9b292c-9e43-48cf-838c-6d942cbae27b"
      },
      "execution_count": null,
      "outputs": [
        {
          "output_type": "stream",
          "name": "stdout",
          "text": [
            "176 [98.16835147 28.097044   49.73460452] [[ 0.4574917   0.34637121 -0.15017693]\n",
            " [ 0.28447814 -0.72784061 -0.4852124 ]\n",
            " [ 0.84248058  0.59184038  0.8614034 ]] [[ 0.02404141 -0.00911212 -0.00444671]\n",
            " [-0.01667882  0.02966905  0.0024785 ]\n",
            " [ 0.00631287 -0.01603732  0.01217379]] 137180.0000000001\n"
          ]
        }
      ]
    },
    {
      "cell_type": "code",
      "source": [
        "p = np.array([[1, 2], [2, 3]])\n",
        "q = np.array([[4, 5], [6, 7]])\n",
        "\n",
        "product_1 = np.dot(p,q)\n",
        "\n",
        "covariance = np.cov(p.flatten(),q.flatten())\n",
        "\n",
        "print(product_1,covariance)"
      ],
      "metadata": {
        "colab": {
          "base_uri": "https://localhost:8080/"
        },
        "id": "DeTF03IE8D7n",
        "outputId": "5b994c5d-e85c-4e34-ba01-320fedba8d1a"
      },
      "execution_count": null,
      "outputs": [
        {
          "output_type": "stream",
          "name": "stdout",
          "text": [
            "[[16 19]\n",
            " [26 31]] [[0.66666667 1.        ]\n",
            " [1.         1.66666667]]\n"
          ]
        }
      ]
    },
    {
      "cell_type": "code",
      "source": [
        "x = np.array([[2, 3, 4], [3, 2, 9]])\n",
        "y = np.array([[1, 5, 0], [5, 10, 3]])\n",
        "\n",
        "\n",
        "inner_product = np.inner(x,y)\n",
        "\n",
        "outer_prod= np.outer(x,y)\n",
        "\n",
        "\n",
        "cartesian_prod = np.array(np.meshgrid(x.flatten(),y.flatten())).T.reshape(-1,2)\n",
        "print(inner_product,outer_prod,cartesian_prod)"
      ],
      "metadata": {
        "colab": {
          "base_uri": "https://localhost:8080/"
        },
        "id": "Q1GDAb2K8bG9",
        "outputId": "2a024e41-0432-4a0b-b858-d2cccc9afc10"
      },
      "execution_count": null,
      "outputs": [
        {
          "output_type": "stream",
          "name": "stdout",
          "text": [
            "[[17 52]\n",
            " [13 62]] [[ 2 10  0 10 20  6]\n",
            " [ 3 15  0 15 30  9]\n",
            " [ 4 20  0 20 40 12]\n",
            " [ 3 15  0 15 30  9]\n",
            " [ 2 10  0 10 20  6]\n",
            " [ 9 45  0 45 90 27]] [[ 2  1]\n",
            " [ 2  5]\n",
            " [ 2  0]\n",
            " [ 2  5]\n",
            " [ 2 10]\n",
            " [ 2  3]\n",
            " [ 3  1]\n",
            " [ 3  5]\n",
            " [ 3  0]\n",
            " [ 3  5]\n",
            " [ 3 10]\n",
            " [ 3  3]\n",
            " [ 4  1]\n",
            " [ 4  5]\n",
            " [ 4  0]\n",
            " [ 4  5]\n",
            " [ 4 10]\n",
            " [ 4  3]\n",
            " [ 3  1]\n",
            " [ 3  5]\n",
            " [ 3  0]\n",
            " [ 3  5]\n",
            " [ 3 10]\n",
            " [ 3  3]\n",
            " [ 2  1]\n",
            " [ 2  5]\n",
            " [ 2  0]\n",
            " [ 2  5]\n",
            " [ 2 10]\n",
            " [ 2  3]\n",
            " [ 9  1]\n",
            " [ 9  5]\n",
            " [ 9  0]\n",
            " [ 9  5]\n",
            " [ 9 10]\n",
            " [ 9  3]]\n"
          ]
        }
      ]
    },
    {
      "cell_type": "code",
      "source": [
        "array = np.array([[1,-2,3] ,[-4,-5,-6]])\n",
        "\n",
        "abs_array = np.abs(array)"
      ],
      "metadata": {
        "id": "XihBJ81_8W6e"
      },
      "execution_count": null,
      "outputs": []
    },
    {
      "cell_type": "code",
      "source": [
        "array = np.array([[1,-2,3] ,[-4,-5,-6]])\n",
        "\n",
        "flattened_array = array.flatten()\n",
        "\n",
        "percen_25 = np.percentile(flattened_array,25)\n",
        "percen_50 = np.percentile(flattened_array,50)\n",
        "percen_75 = np.percentile(flattened_array,75)\n",
        "\n",
        "percen_25_col = np.percentile(array,25,axis=0)\n",
        "percen_50_col = np.percentile(array,50,axis=0)\n",
        "percen_75_col = np.percentile(array,75,axis=0)\n",
        "\n",
        "percen_25_row = np.percentile(array,25,axis=1)\n",
        "percen_50_row = np.percentile(array,50,axis=1)\n",
        "percen_75_row = np.percentile(array,75,axis=1)\n",
        "\n",
        "print(percen_25,percen_50,percen_75)\n",
        "print(percen_25_col,percen_50_col,percen_75_col)\n",
        "print(percen_25_row,percen_50_row,percen_75_row)\n"
      ],
      "metadata": {
        "colab": {
          "base_uri": "https://localhost:8080/"
        },
        "id": "6WEBbz_r9Mka",
        "outputId": "495d5911-6c8b-43ad-85b4-938b4c9e3951"
      },
      "execution_count": null,
      "outputs": [
        {
          "output_type": "stream",
          "name": "stdout",
          "text": [
            "-4.75 -3.0 0.25\n",
            "[-2.75 -4.25 -3.75] [-1.5 -3.5 -1.5] [-0.25 -2.75  0.75]\n",
            "[-0.5 -5.5] [ 1. -5.] [ 2.  -4.5]\n"
          ]
        }
      ]
    },
    {
      "cell_type": "code",
      "source": [
        "mean_flat = np.mean(flattened_array)\n",
        "mean_col = np.mean(array,axis=0)\n",
        "mean_row = np.mean(array,axis=1)\n",
        "\n",
        "median_flat = np.median(flattened_array)\n",
        "median_col = np.median(array,axis=0)\n",
        "median_row = np.median(array,axis=1)\n",
        "\n",
        "std_flat = np.std(flattened_array)\n",
        "std_col = np.std(array,axis=0)\n",
        "std_row = np.std(array,axis=1)\n",
        "print(mean_flat,mean_col,mean_row)\n",
        "print(median_flat,median_col,median_row)\n",
        "print(std_flat,std_col,std_row)"
      ],
      "metadata": {
        "colab": {
          "base_uri": "https://localhost:8080/"
        },
        "id": "fCejhSsL9d9h",
        "outputId": "a2582e0a-c68e-40aa-bf8a-6dcd32a421a1"
      },
      "execution_count": null,
      "outputs": [
        {
          "output_type": "stream",
          "name": "stdout",
          "text": [
            "-2.1666666666666665 [-1.5 -3.5 -1.5] [ 0.66666667 -5.        ]\n",
            "-3.0 [-1.5 -3.5 -1.5] [ 1. -5.]\n",
            "3.2360813064912666 [2.5 1.5 4.5] [2.05480467 0.81649658]\n"
          ]
        }
      ]
    },
    {
      "cell_type": "code",
      "source": [
        "a = np.array([-1.8, -1.6, -0.5, 0.5, 1.6, 1.8, 3.0])\n",
        "\n",
        "floor_values = np.floor(a)\n",
        "\n",
        "\n",
        "cieling_val = np.ceil(a)\n",
        "\n",
        "trunca_val = np.trunc(a)\n",
        "\n",
        "\n",
        "rounde_val = np.round(a)\n",
        "\n",
        "print(floor_values,cieling_val,trunca_val,rounde_val)"
      ],
      "metadata": {
        "id": "-AhrTP_G9p3c"
      },
      "execution_count": null,
      "outputs": []
    },
    {
      "cell_type": "code",
      "source": [
        "array = np.array([10, 52, 62, 16, 16, 54, 453])\n",
        "\n",
        "sorted_arr = np.sort(array)\n",
        "\n",
        "print(sorted_arr)\n"
      ],
      "metadata": {
        "id": "Fpt1cwSu-N2R"
      },
      "execution_count": null,
      "outputs": []
    },
    {
      "cell_type": "code",
      "source": [
        "indices_sort_Arr = np.argsort(array)\n",
        "\n",
        "print(indices_sort_Arr)"
      ],
      "metadata": {
        "colab": {
          "base_uri": "https://localhost:8080/"
        },
        "id": "TTiE4_9q-Thz",
        "outputId": "720a40a1-2077-4b8a-8cdf-2d4b73ec39fc"
      },
      "execution_count": null,
      "outputs": [
        {
          "output_type": "stream",
          "name": "stdout",
          "text": [
            "[[1 0 2]\n",
            " [2 1 0]]\n"
          ]
        }
      ]
    },
    {
      "cell_type": "code",
      "source": [
        "smallest_elemen = np.partition(array , 4 )[:4]\n",
        "print(smallest_elemen)"
      ],
      "metadata": {
        "id": "tIx7FQDM-mTv"
      },
      "execution_count": null,
      "outputs": []
    },
    {
      "cell_type": "code",
      "source": [
        "array = np.array([1.0, 1.2, 2.2, 2.0, 3.0, 2.0])"
      ],
      "metadata": {
        "id": "G0lZSrSr-5Ye"
      },
      "execution_count": null,
      "outputs": []
    },
    {
      "cell_type": "code",
      "source": [
        "integer_elem = array[array == array.astype(int)]\n",
        "print(integer_elem)"
      ],
      "metadata": {
        "colab": {
          "base_uri": "https://localhost:8080/"
        },
        "id": "Na1wZvn8_AkA",
        "outputId": "06dcbb9f-2b0b-42a8-e1a6-8156d971edde"
      },
      "execution_count": null,
      "outputs": [
        {
          "output_type": "stream",
          "name": "stdout",
          "text": [
            "[1. 2. 3. 2.]\n"
          ]
        }
      ]
    },
    {
      "cell_type": "code",
      "source": [
        "float_elem = array[array != array.astype(int)]\n",
        "print(float_elem)"
      ],
      "metadata": {
        "colab": {
          "base_uri": "https://localhost:8080/"
        },
        "id": "WSuKr-p6_FYz",
        "outputId": "2183727f-7ad6-4275-b4f8-9d95fc56be09"
      },
      "execution_count": null,
      "outputs": [
        {
          "output_type": "stream",
          "name": "stdout",
          "text": [
            "[1.2 2.2]\n"
          ]
        }
      ]
    },
    {
      "cell_type": "code",
      "source": [
        "!pip install PIL\n"
      ],
      "metadata": {
        "colab": {
          "base_uri": "https://localhost:8080/"
        },
        "id": "3sFTqompCIWN",
        "outputId": "b65d4377-d686-47f5-ee62-587edb0b9981"
      },
      "execution_count": null,
      "outputs": [
        {
          "output_type": "stream",
          "name": "stdout",
          "text": [
            "\u001b[31mERROR: Could not find a version that satisfies the requirement PIL (from versions: none)\u001b[0m\u001b[31m\n",
            "\u001b[0m\u001b[31mERROR: No matching distribution found for PIL\u001b[0m\u001b[31m\n",
            "\u001b[0m"
          ]
        }
      ]
    },
    {
      "cell_type": "code",
      "source": [
        "!pip install os\n",
        "import os\n",
        "os.listdir()\n"
      ],
      "metadata": {
        "colab": {
          "base_uri": "https://localhost:8080/"
        },
        "id": "CEc5iCUAEKi9",
        "outputId": "5edd7b72-0e83-4a33-80fd-51537f1d4989"
      },
      "execution_count": null,
      "outputs": [
        {
          "output_type": "stream",
          "name": "stdout",
          "text": [
            "\u001b[31mERROR: Could not find a version that satisfies the requirement os (from versions: none)\u001b[0m\u001b[31m\n",
            "\u001b[0m\u001b[31mERROR: No matching distribution found for os\u001b[0m\u001b[31m\n",
            "\u001b[0m"
          ]
        },
        {
          "output_type": "execute_result",
          "data": {
            "text/plain": [
              "['.config', 'sample_img.jpg', 'sample_data']"
            ]
          },
          "metadata": {},
          "execution_count": 31
        }
      ]
    },
    {
      "cell_type": "code",
      "source": [
        "\n",
        "# Ques 4 image handling\n",
        "\n",
        "from  PIL import Image\n",
        "\n",
        "import numpy as np\n",
        "path_to_image = \"sample_img.jpg\"\n",
        "save_path = \"sample_image.txt\"\n",
        "\n",
        "def img_to_array(path_to_image , save_path):\n",
        "    img = Image.open(path_to_image)\n",
        "    img_array = np.array(img)\n",
        "    if len(img_array.shape) == 2:\n",
        "      mode ='L'\n",
        "    else:\n",
        "      mode = 'RGB'\n",
        "\n",
        "\n",
        "\n",
        "    np.savetxt(save_path,img_array.flatten() , fmt='%d' , header = f\"{mode} {img_array.shape[0]} {img_array.shape[1]}\")\n",
        "\n",
        "    print(f\"image saved at {save_path}\")\n",
        "\n",
        "\n",
        "img_to_array(path_to_image,save_path)\n",
        "\n",
        "\n",
        "\n",
        "\n",
        "\n"
      ],
      "metadata": {
        "colab": {
          "base_uri": "https://localhost:8080/"
        },
        "id": "KNuUIuIy_NdW",
        "outputId": "ea332cff-25e2-4f39-b549-7ec6a437299e"
      },
      "execution_count": null,
      "outputs": [
        {
          "output_type": "stream",
          "name": "stdout",
          "text": [
            "image saved at sample_image.txt\n"
          ]
        }
      ]
    },
    {
      "cell_type": "code",
      "source": [],
      "metadata": {
        "id": "ZKFUkwMZEW2Y"
      },
      "execution_count": null,
      "outputs": []
    }
  ]
}